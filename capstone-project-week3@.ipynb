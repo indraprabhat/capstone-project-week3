{
    "cells": [
        {
            "cell_type": "code",
            "execution_count": 34,
            "metadata": {},
            "outputs": [
                {
                    "name": "stdout",
                    "output_type": "stream",
                    "text": "Libraries imported.\n"
                }
            ],
            "source": "import numpy as np # library to handle data in a vectorized manner\nimport pandas as pd # library for data analsysis\nimport requests \nfrom bs4 import BeautifulSoup \n\nprint('Libraries imported.')"
        },
        {
            "cell_type": "code",
            "execution_count": 35,
            "metadata": {},
            "outputs": [
                {
                    "name": "stdout",
                    "output_type": "stream",
                    "text": "Page Scrapped.\n"
                }
            ],
            "source": "\nURL = \"https://en.wikipedia.org/wiki/List_of_postal_codes_of_Canada:_M\"\nr = requests.get(URL) \n  \nsoup = BeautifulSoup(r.content, 'html5lib') \ntable = soup.find('div', attrs = {'id':'container'}) \n\n# print(soup.prettify()) \nprint('Page Scrapped.')"
        },
        {
            "cell_type": "code",
            "execution_count": null,
            "metadata": {},
            "outputs": [],
            "source": "boroughs= [];\nneighborhoods = [];\ncolumnNum = 1;\npassVal = False\n\nfor row in soup.find_all('td'):\n    for cell in row:\n        if cell.string and cell.string[0].isalpha() and len(cell.string) > 2:\n            passVal = False\n            if columnNum == 1:\n                if passVal == False and cell.string[1].isdigit():\n                    postalCodes.append(cell.string);   \n                    columnNum = 2\n                else:\n                    continue\n            elif columnNum == 2 :\n                if cell.string == 'Not assigned':\n                    passVal = True\n                    del postalCodes[-1]\n                    columnNum = 1\n                    continue\n                else:\n                    boroughs.append(cell.string);      \n                    columnNum = 3\n            elif columnNum == 3 :\n                if cell.string == 'Not assigned\\n':\n                    neighborhoods.append(boroughs[-1])\n                else:\n                    neighborhoods.append(cell.string); \n                columnNum = 1\n                \nprint('Data Collected.')"
        }
    ],
    "metadata": {
        "kernelspec": {
            "display_name": "Python 3.6",
            "language": "python",
            "name": "python3"
        },
        "language_info": {
            "codemirror_mode": {
                "name": "ipython",
                "version": 3
            },
            "file_extension": ".py",
            "mimetype": "text/x-python",
            "name": "python",
            "nbconvert_exporter": "python",
            "pygments_lexer": "ipython3",
            "version": "3.6.9"
        }
    },
    "nbformat": 4,
    "nbformat_minor": 1
}