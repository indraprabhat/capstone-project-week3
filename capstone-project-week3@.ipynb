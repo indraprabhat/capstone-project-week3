{
    "cells": [
        {
            "cell_type": "code",
            "execution_count": 34,
            "metadata": {},
            "outputs": [
                {
                    "name": "stdout",
                    "output_type": "stream",
                    "text": "Libraries imported.\n"
                }
            ],
            "source": "import numpy as np # library to handle data in a vectorized manner\nimport pandas as pd # library for data analsysis\nimport requests \nfrom bs4 import BeautifulSoup \n\nprint('Libraries imported.')"
        },
        {
            "cell_type": "code",
            "execution_count": 35,
            "metadata": {},
            "outputs": [
                {
                    "name": "stdout",
                    "output_type": "stream",
                    "text": "Page Scrapped.\n"
                }
            ],
            "source": "\nURL = \"https://en.wikipedia.org/wiki/List_of_postal_codes_of_Canada:_M\"\nr = requests.get(URL) \n  \nsoup = BeautifulSoup(r.content, 'html5lib') \ntable = soup.find('div', attrs = {'id':'container'}) \n\n# print(soup.prettify()) \nprint('Page Scrapped.')"
        },
        {
            "cell_type": "code",
            "execution_count": 36,
            "metadata": {},
            "outputs": [
                {
                    "name": "stdout",
                    "output_type": "stream",
                    "text": "Data Collected.\n"
                }
            ],
            "source": "postalCodes = [];\nboroughs= [];\nneighborhoods = [];\ncolumnNum = 1;\npassVal = False\n\nfor row in soup.find_all('td'):\n    for cell in row:\n        if cell.string and cell.string[0].isalpha() and len(cell.string) > 2:\n            passVal = False\n            if columnNum == 1:\n                if passVal == False and cell.string[1].isdigit():\n                    postalCodes.append(cell.string);   \n                    columnNum = 2\n                else:\n                    continue\n            elif columnNum == 2 :\n                if cell.string == 'Not assigned':\n                    passVal = True\n                    del postalCodes[-1]\n                    columnNum = 1\n                    continue\n                else:\n                    boroughs.append(cell.string);      \n                    columnNum = 3\n            elif columnNum == 3 :\n                if cell.string == 'Not assigned\\n':\n                    neighborhoods.append(boroughs[-1])\n                else:\n                    neighborhoods.append(cell.string); \n                columnNum = 1\n                \nprint('Data Collected.')"
        },
        {
            "cell_type": "code",
            "execution_count": 37,
            "metadata": {},
            "outputs": [
                {
                    "data": {
                        "text/html": "<div>\n<style scoped>\n    .dataframe tbody tr th:only-of-type {\n        vertical-align: middle;\n    }\n\n    .dataframe tbody tr th {\n        vertical-align: top;\n    }\n\n    .dataframe thead th {\n        text-align: right;\n    }\n</style>\n<table border=\"1\" class=\"dataframe\">\n  <thead>\n    <tr style=\"text-align: right;\">\n      <th></th>\n      <th>PostalCode</th>\n      <th>Borough</th>\n      <th>Neighborhood</th>\n    </tr>\n  </thead>\n  <tbody>\n  </tbody>\n</table>\n</div>",
                        "text/plain": "Empty DataFrame\nColumns: [PostalCode, Borough, Neighborhood]\nIndex: []"
                    },
                    "execution_count": 37,
                    "metadata": {},
                    "output_type": "execute_result"
                }
            ],
            "source": "column_names = ['PostalCode', 'Borough', 'Neighborhood'] \n\n# instantiate the dataframe\nneighbors = pd.DataFrame(columns=column_names)\n\nneighbors"
        },
        {
            "cell_type": "code",
            "execution_count": 38,
            "metadata": {},
            "outputs": [
                {
                    "data": {
                        "text/html": "<div>\n<style scoped>\n    .dataframe tbody tr th:only-of-type {\n        vertical-align: middle;\n    }\n\n    .dataframe tbody tr th {\n        vertical-align: top;\n    }\n\n    .dataframe thead th {\n        text-align: right;\n    }\n</style>\n<table border=\"1\" class=\"dataframe\">\n  <thead>\n    <tr style=\"text-align: right;\">\n      <th></th>\n      <th>PostalCode</th>\n      <th>Borough</th>\n      <th>Neighborhood</th>\n    </tr>\n  </thead>\n  <tbody>\n    <tr>\n      <th>0</th>\n      <td>M1A</td>\n      <td>Not assigned</td>\n      <td>M2A</td>\n    </tr>\n    <tr>\n      <th>1</th>\n      <td>M3A</td>\n      <td>North York</td>\n      <td>Parkwoods</td>\n    </tr>\n    <tr>\n      <th>2</th>\n      <td>M4A</td>\n      <td>North York</td>\n      <td>Victoria Village</td>\n    </tr>\n    <tr>\n      <th>3</th>\n      <td>M5A</td>\n      <td>Downtown Toronto</td>\n      <td>Regent Park, Harbourfront</td>\n    </tr>\n    <tr>\n      <th>4</th>\n      <td>M6A</td>\n      <td>North York</td>\n      <td>Lawrence Manor, Lawrence Heights</td>\n    </tr>\n    <tr>\n      <th>5</th>\n      <td>M7A</td>\n      <td>Downtown Toronto</td>\n      <td>Queen's Park, Ontario Provincial Government</td>\n    </tr>\n    <tr>\n      <th>6</th>\n      <td>M8A</td>\n      <td>Not assigned</td>\n      <td>M9A</td>\n    </tr>\n    <tr>\n      <th>7</th>\n      <td>M1B</td>\n      <td>Scarborough</td>\n      <td>Malvern, Rouge</td>\n    </tr>\n    <tr>\n      <th>8</th>\n      <td>M2B</td>\n      <td>Not assigned</td>\n      <td>M3B</td>\n    </tr>\n    <tr>\n      <th>9</th>\n      <td>M4B</td>\n      <td>East York</td>\n      <td>Parkview Hill, Woodbine Gardens</td>\n    </tr>\n    <tr>\n      <th>10</th>\n      <td>M5B</td>\n      <td>Downtown Toronto</td>\n      <td>Garden District, Ryerson</td>\n    </tr>\n    <tr>\n      <th>11</th>\n      <td>M6B</td>\n      <td>North York</td>\n      <td>Glencairn</td>\n    </tr>\n    <tr>\n      <th>12</th>\n      <td>M7B</td>\n      <td>Not assigned</td>\n      <td>M8B</td>\n    </tr>\n    <tr>\n      <th>13</th>\n      <td>M9B</td>\n      <td>Etobicoke</td>\n      <td>West Deane Park, Princess Gardens, Martin Grov...</td>\n    </tr>\n    <tr>\n      <th>14</th>\n      <td>M1C</td>\n      <td>Scarborough</td>\n      <td>Rouge Hill, Port Union, Highland Creek</td>\n    </tr>\n    <tr>\n      <th>15</th>\n      <td>M2C</td>\n      <td>Not assigned</td>\n      <td>M3C</td>\n    </tr>\n    <tr>\n      <th>16</th>\n      <td>M4C</td>\n      <td>East York</td>\n      <td>Woodbine Heights</td>\n    </tr>\n    <tr>\n      <th>17</th>\n      <td>M5C</td>\n      <td>Downtown Toronto</td>\n      <td>St. James Town</td>\n    </tr>\n    <tr>\n      <th>18</th>\n      <td>M6C</td>\n      <td>York</td>\n      <td>Humewood-Cedarvale</td>\n    </tr>\n    <tr>\n      <th>19</th>\n      <td>M7C</td>\n      <td>Not assigned</td>\n      <td>M8C</td>\n    </tr>\n    <tr>\n      <th>20</th>\n      <td>M9C</td>\n      <td>Etobicoke</td>\n      <td>Eringate, Bloordale Gardens, Old Burnhamthorpe...</td>\n    </tr>\n    <tr>\n      <th>21</th>\n      <td>M1E</td>\n      <td>Scarborough</td>\n      <td>Guildwood, Morningside, West Hill</td>\n    </tr>\n    <tr>\n      <th>22</th>\n      <td>M2E</td>\n      <td>Not assigned</td>\n      <td>M3E</td>\n    </tr>\n    <tr>\n      <th>23</th>\n      <td>M4E</td>\n      <td>East Toronto</td>\n      <td>The Beaches</td>\n    </tr>\n    <tr>\n      <th>24</th>\n      <td>M5E</td>\n      <td>Downtown Toronto</td>\n      <td>Berczy Park</td>\n    </tr>\n    <tr>\n      <th>25</th>\n      <td>M6E</td>\n      <td>York</td>\n      <td>Caledonia-Fairbanks</td>\n    </tr>\n    <tr>\n      <th>26</th>\n      <td>M7E</td>\n      <td>Not assigned</td>\n      <td>M8E</td>\n    </tr>\n    <tr>\n      <th>27</th>\n      <td>M9E</td>\n      <td>Not assigned</td>\n      <td>M1G</td>\n    </tr>\n    <tr>\n      <th>28</th>\n      <td>M2G</td>\n      <td>Not assigned</td>\n      <td>M3G</td>\n    </tr>\n    <tr>\n      <th>29</th>\n      <td>M4G</td>\n      <td>East York</td>\n      <td>Leaside</td>\n    </tr>\n    <tr>\n      <th>...</th>\n      <td>...</td>\n      <td>...</td>\n      <td>...</td>\n    </tr>\n    <tr>\n      <th>105</th>\n      <td>M2V</td>\n      <td>Not assigned</td>\n      <td>M3V</td>\n    </tr>\n    <tr>\n      <th>106</th>\n      <td>M4V</td>\n      <td>Central Toronto</td>\n      <td>Summerhill West, Rathnelly, South Hill, Forest...</td>\n    </tr>\n    <tr>\n      <th>107</th>\n      <td>M5V</td>\n      <td>Downtown Toronto</td>\n      <td>CN Tower, King and Spadina, Railway Lands, Har...</td>\n    </tr>\n    <tr>\n      <th>108</th>\n      <td>M6V</td>\n      <td>Not assigned</td>\n      <td>M7V</td>\n    </tr>\n    <tr>\n      <th>109</th>\n      <td>M8V</td>\n      <td>Etobicoke</td>\n      <td>New Toronto, Mimico South, Humber Bay Shores</td>\n    </tr>\n    <tr>\n      <th>110</th>\n      <td>M9V</td>\n      <td>Etobicoke</td>\n      <td>South Steeles, Silverstone, Humbergate, Jamest...</td>\n    </tr>\n    <tr>\n      <th>111</th>\n      <td>M1W</td>\n      <td>Scarborough</td>\n      <td>Steeles West, L'Amoreaux West</td>\n    </tr>\n    <tr>\n      <th>112</th>\n      <td>M2W</td>\n      <td>Not assigned</td>\n      <td>M3W</td>\n    </tr>\n    <tr>\n      <th>113</th>\n      <td>M4W</td>\n      <td>Downtown Toronto</td>\n      <td>Rosedale</td>\n    </tr>\n    <tr>\n      <th>114</th>\n      <td>M5W</td>\n      <td>Downtown Toronto</td>\n      <td>Stn A PO Boxes</td>\n    </tr>\n    <tr>\n      <th>115</th>\n      <td>M6W</td>\n      <td>Not assigned</td>\n      <td>M7W</td>\n    </tr>\n    <tr>\n      <th>116</th>\n      <td>M8W</td>\n      <td>Etobicoke</td>\n      <td>Alderwood, Long Branch</td>\n    </tr>\n    <tr>\n      <th>117</th>\n      <td>M9W</td>\n      <td>Etobicoke</td>\n      <td>Northwest, West Humber - Clairville</td>\n    </tr>\n    <tr>\n      <th>118</th>\n      <td>M1X</td>\n      <td>Scarborough</td>\n      <td>Upper Rouge</td>\n    </tr>\n    <tr>\n      <th>119</th>\n      <td>M2X</td>\n      <td>Not assigned</td>\n      <td>M3X</td>\n    </tr>\n    <tr>\n      <th>120</th>\n      <td>M4X</td>\n      <td>Downtown Toronto</td>\n      <td>St. James Town, Cabbagetown</td>\n    </tr>\n    <tr>\n      <th>121</th>\n      <td>M5X</td>\n      <td>Downtown Toronto</td>\n      <td>First Canadian Place, Underground city</td>\n    </tr>\n    <tr>\n      <th>122</th>\n      <td>M6X</td>\n      <td>Not assigned</td>\n      <td>M7X</td>\n    </tr>\n    <tr>\n      <th>123</th>\n      <td>M8X</td>\n      <td>Etobicoke</td>\n      <td>The Kingsway, Montgomery Road, Old Mill North</td>\n    </tr>\n    <tr>\n      <th>124</th>\n      <td>M9X</td>\n      <td>Not assigned</td>\n      <td>M1Y</td>\n    </tr>\n    <tr>\n      <th>125</th>\n      <td>M2Y</td>\n      <td>Not assigned</td>\n      <td>M3Y</td>\n    </tr>\n    <tr>\n      <th>126</th>\n      <td>M4Y</td>\n      <td>Downtown Toronto</td>\n      <td>Church and Wellesley</td>\n    </tr>\n    <tr>\n      <th>127</th>\n      <td>M5Y</td>\n      <td>Not assigned</td>\n      <td>M6Y</td>\n    </tr>\n    <tr>\n      <th>128</th>\n      <td>M7Y</td>\n      <td>East Toronto</td>\n      <td>Business reply mail Processing Centre, South C...</td>\n    </tr>\n    <tr>\n      <th>129</th>\n      <td>M8Y</td>\n      <td>Etobicoke</td>\n      <td>Old Mill South, King's Mill Park, Sunnylea, Hu...</td>\n    </tr>\n    <tr>\n      <th>130</th>\n      <td>M9Y</td>\n      <td>Not assigned</td>\n      <td>M1Z</td>\n    </tr>\n    <tr>\n      <th>131</th>\n      <td>M2Z</td>\n      <td>Not assigned</td>\n      <td>M3Z</td>\n    </tr>\n    <tr>\n      <th>132</th>\n      <td>M4Z</td>\n      <td>Not assigned</td>\n      <td>M5Z</td>\n    </tr>\n    <tr>\n      <th>133</th>\n      <td>M6Z</td>\n      <td>Not assigned</td>\n      <td>M7Z</td>\n    </tr>\n    <tr>\n      <th>134</th>\n      <td>M8Z</td>\n      <td>Etobicoke</td>\n      <td>Mimico NW, The Queensway West, South of Bloor,...</td>\n    </tr>\n  </tbody>\n</table>\n<p>135 rows \u00d7 3 columns</p>\n</div>",
                        "text/plain": "    PostalCode            Borough  \\\n0         M1A\n      Not assigned\n   \n1         M3A\n        North York\n   \n2         M4A\n        North York\n   \n3         M5A\n  Downtown Toronto\n   \n4         M6A\n        North York\n   \n5         M7A\n  Downtown Toronto\n   \n6         M8A\n      Not assigned\n   \n7         M1B\n       Scarborough\n   \n8         M2B\n      Not assigned\n   \n9         M4B\n         East York\n   \n10        M5B\n  Downtown Toronto\n   \n11        M6B\n        North York\n   \n12        M7B\n      Not assigned\n   \n13        M9B\n         Etobicoke\n   \n14        M1C\n       Scarborough\n   \n15        M2C\n      Not assigned\n   \n16        M4C\n         East York\n   \n17        M5C\n  Downtown Toronto\n   \n18        M6C\n              York\n   \n19        M7C\n      Not assigned\n   \n20        M9C\n         Etobicoke\n   \n21        M1E\n       Scarborough\n   \n22        M2E\n      Not assigned\n   \n23        M4E\n      East Toronto\n   \n24        M5E\n  Downtown Toronto\n   \n25        M6E\n              York\n   \n26        M7E\n      Not assigned\n   \n27        M9E\n      Not assigned\n   \n28        M2G\n      Not assigned\n   \n29        M4G\n         East York\n   \n..         ...                ...   \n105       M2V\n      Not assigned\n   \n106       M4V\n   Central Toronto\n   \n107       M5V\n  Downtown Toronto\n   \n108       M6V\n      Not assigned\n   \n109       M8V\n         Etobicoke\n   \n110       M9V\n         Etobicoke\n   \n111       M1W\n       Scarborough\n   \n112       M2W\n      Not assigned\n   \n113       M4W\n  Downtown Toronto\n   \n114       M5W\n  Downtown Toronto\n   \n115       M6W\n      Not assigned\n   \n116       M8W\n         Etobicoke\n   \n117       M9W\n         Etobicoke\n   \n118       M1X\n       Scarborough\n   \n119       M2X\n      Not assigned\n   \n120       M4X\n  Downtown Toronto\n   \n121       M5X\n  Downtown Toronto\n   \n122       M6X\n      Not assigned\n   \n123       M8X\n         Etobicoke\n   \n124       M9X\n      Not assigned\n   \n125       M2Y\n      Not assigned\n   \n126       M4Y\n  Downtown Toronto\n   \n127       M5Y\n      Not assigned\n   \n128       M7Y\n      East Toronto\n   \n129       M8Y\n         Etobicoke\n   \n130       M9Y\n      Not assigned\n   \n131       M2Z\n      Not assigned\n   \n132       M4Z\n      Not assigned\n   \n133       M6Z\n      Not assigned\n   \n134       M8Z\n         Etobicoke\n   \n\n                                          Neighborhood  \n0                                                 M2A\n  \n1                                           Parkwoods\n  \n2                                    Victoria Village\n  \n3                           Regent Park, Harbourfront\n  \n4                    Lawrence Manor, Lawrence Heights\n  \n5         Queen's Park, Ontario Provincial Government\n  \n6                                                 M9A\n  \n7                                      Malvern, Rouge\n  \n8                                                 M3B\n  \n9                     Parkview Hill, Woodbine Gardens\n  \n10                           Garden District, Ryerson\n  \n11                                          Glencairn\n  \n12                                                M8B\n  \n13   West Deane Park, Princess Gardens, Martin Grov...  \n14             Rouge Hill, Port Union, Highland Creek\n  \n15                                                M3C\n  \n16                                   Woodbine Heights\n  \n17                                     St. James Town\n  \n18                                 Humewood-Cedarvale\n  \n19                                                M8C\n  \n20   Eringate, Bloordale Gardens, Old Burnhamthorpe...  \n21                  Guildwood, Morningside, West Hill\n  \n22                                                M3E\n  \n23                                        The Beaches\n  \n24                                        Berczy Park\n  \n25                                Caledonia-Fairbanks\n  \n26                                                M8E\n  \n27                                                M1G\n  \n28                                                M3G\n  \n29                                            Leaside\n  \n..                                                 ...  \n105                                               M3V\n  \n106  Summerhill West, Rathnelly, South Hill, Forest...  \n107  CN Tower, King and Spadina, Railway Lands, Har...  \n108                                               M7V\n  \n109      New Toronto, Mimico South, Humber Bay Shores\n  \n110  South Steeles, Silverstone, Humbergate, Jamest...  \n111                     Steeles West, L'Amoreaux West\n  \n112                                               M3W\n  \n113                                          Rosedale\n  \n114                                    Stn A PO Boxes\n  \n115                                               M7W\n  \n116                            Alderwood, Long Branch\n  \n117               Northwest, West Humber - Clairville\n  \n118                                       Upper Rouge\n  \n119                                               M3X\n  \n120                       St. James Town, Cabbagetown\n  \n121            First Canadian Place, Underground city\n  \n122                                               M7X\n  \n123     The Kingsway, Montgomery Road, Old Mill North\n  \n124                                               M1Y\n  \n125                                               M3Y\n  \n126                              Church and Wellesley\n  \n127                                               M6Y\n  \n128  Business reply mail Processing Centre, South C...  \n129  Old Mill South, King's Mill Park, Sunnylea, Hu...  \n130                                               M1Z\n  \n131                                               M3Z\n  \n132                                               M5Z\n  \n133                                               M7Z\n  \n134  Mimico NW, The Queensway West, South of Bloor,...  \n\n[135 rows x 3 columns]"
                    },
                    "execution_count": 38,
                    "metadata": {},
                    "output_type": "execute_result"
                }
            ],
            "source": "for data in range(len(neighborhoods)):\n    code = postalCodes[data]\n    borough = boroughs[data]\n    neighborhood_name = neighborhoods[data]\n\n    neighbors = neighbors.append({ 'PostalCode': code,\n                                   'Borough': borough,\n                                   'Neighborhood': neighborhood_name}, ignore_index=True)\n\nneighbors"
        },
        {
            "cell_type": "code",
            "execution_count": 39,
            "metadata": {},
            "outputs": [
                {
                    "data": {
                        "text/plain": "(135, 3)"
                    },
                    "execution_count": 39,
                    "metadata": {},
                    "output_type": "execute_result"
                }
            ],
            "source": "neighbors.shape"
        },
        {
            "cell_type": "code",
            "execution_count": null,
            "metadata": {},
            "outputs": [],
            "source": ""
        }
    ],
    "metadata": {
        "kernelspec": {
            "display_name": "Python 3.6",
            "language": "python",
            "name": "python3"
        },
        "language_info": {
            "codemirror_mode": {
                "name": "ipython",
                "version": 3
            },
            "file_extension": ".py",
            "mimetype": "text/x-python",
            "name": "python",
            "nbconvert_exporter": "python",
            "pygments_lexer": "ipython3",
            "version": "3.6.9"
        }
    },
    "nbformat": 4,
    "nbformat_minor": 1
}